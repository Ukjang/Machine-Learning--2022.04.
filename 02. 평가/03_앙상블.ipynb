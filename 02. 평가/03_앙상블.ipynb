{
  "nbformat": 4,
  "nbformat_minor": 0,
  "metadata": {
    "colab": {
      "name": "03_앙상블.ipynb",
      "provenance": [],
      "collapsed_sections": []
    },
    "kernelspec": {
      "name": "python3",
      "display_name": "Python 3"
    },
    "language_info": {
      "name": "python"
    }
  },
  "cells": [
    {
      "cell_type": "markdown",
      "source": [
        "### 앙상블(Ensemble) 학습"
      ],
      "metadata": {
        "id": "v36epgRSO1Eg"
      }
    },
    {
      "cell_type": "markdown",
      "source": [
        "1. Voting 방식"
      ],
      "metadata": {
        "id": "OqmPZowMO8rP"
      }
    },
    {
      "cell_type": "markdown",
      "source": [
        "#### 1.1 Hard voting\n",
        "- 로지스틱 회귀\n",
        "- 서포트 벡터 머신\n",
        "- K 최근접 이웃"
      ],
      "metadata": {
        "id": "GtWEMYa7Pbsn"
      }
    },
    {
      "cell_type": "code",
      "source": [
        "from sklearn.datasets import load_breast_cancer\n",
        "cancer = load_breast_cancer()"
      ],
      "metadata": {
        "id": "X6_CSlAlPlpd"
      },
      "execution_count": 2,
      "outputs": []
    },
    {
      "cell_type": "code",
      "source": [
        "from sklearn.preprocessing import MinMaxScaler\n",
        "cancer_scaled = MinMaxScaler().fit_transform(cancer.data)"
      ],
      "metadata": {
        "id": "bqqF5_VjPvRN"
      },
      "execution_count": 3,
      "outputs": []
    },
    {
      "cell_type": "code",
      "source": [
        "from sklearn.model_selection import train_test_split\n",
        "X_train , X_test, y_train, y_test = train_test_split(\n",
        "    cancer_scaled, cancer.target, stratify=cancer.target, test_size=0.2,\n",
        "    random_state= 2022\n",
        ")\n",
        "\n",
        "X_train.shape , X_test.shape, y_train.shape, y_test.shape"
      ],
      "metadata": {
        "colab": {
          "base_uri": "https://localhost:8080/"
        },
        "id": "PVxzfapXPvTl",
        "outputId": "6a2d7ccd-6e4b-4d52-a799-69132bf54a67"
      },
      "execution_count": 4,
      "outputs": [
        {
          "output_type": "execute_result",
          "data": {
            "text/plain": [
              "((455, 30), (114, 30), (455,), (114,))"
            ]
          },
          "metadata": {},
          "execution_count": 4
        }
      ]
    },
    {
      "cell_type": "code",
      "source": [
        "from sklearn.linear_model import LogisticRegression\n",
        "from sklearn.svm import SVC\n",
        "from sklearn.neighbors import KNeighborsClassifier\n"
      ],
      "metadata": {
        "id": "GTveY29VPvWN"
      },
      "execution_count": 5,
      "outputs": []
    },
    {
      "cell_type": "code",
      "source": [
        "lrc = LogisticRegression(random_state=2022)\n",
        "svc = SVC(random_state=2022)\n",
        "knn = KNeighborsClassifier()\n",
        "# KN은 그냥 random_state 없이 하는듯?\n"
      ],
      "metadata": {
        "id": "cYYqTtiRPvYl"
      },
      "execution_count": 6,
      "outputs": []
    },
    {
      "cell_type": "code",
      "source": [
        "# 하드 보팅을 위한 앙상블 분류기\n",
        "from sklearn.ensemble import VotingClassifier\n",
        "voc = VotingClassifier(\n",
        "    estimators=[('LRC', lrc),('SVC', svc),('KNN', knn)],\n",
        "    voting='hard'\n",
        "    # estimators에 리스트 안에 튜블 구조로 이름 + 모델이 들어가야 함\n",
        ")"
      ],
      "metadata": {
        "id": "nU1YW2gCPvah"
      },
      "execution_count": 10,
      "outputs": []
    },
    {
      "cell_type": "code",
      "source": [
        "voc.fit(X_train, y_train)\n",
        "voc.score(X_test, y_test)"
      ],
      "metadata": {
        "colab": {
          "base_uri": "https://localhost:8080/"
        },
        "id": "1siW6hddPvc4",
        "outputId": "269feeb0-d6f7-4c0d-e054-506deb8446d4"
      },
      "execution_count": 11,
      "outputs": [
        {
          "output_type": "execute_result",
          "data": {
            "text/plain": [
              "1.0"
            ]
          },
          "metadata": {},
          "execution_count": 11
        }
      ]
    },
    {
      "cell_type": "code",
      "source": [
        "# 개별 분류기의 성능\n",
        "lrc.fit(X_train, y_train)\n",
        "svc.fit(X_train, y_train)\n",
        "knn.fit(X_train, y_train)\n",
        "lrc.score(X_train, y_train), svc.score(X_train, y_train), knn.score(X_train, y_train)"
      ],
      "metadata": {
        "colab": {
          "base_uri": "https://localhost:8080/"
        },
        "id": "l7lRYT6zSHAt",
        "outputId": "6f19992f-6cc7-4ff8-855e-2a224cba2206"
      },
      "execution_count": 12,
      "outputs": [
        {
          "output_type": "execute_result",
          "data": {
            "text/plain": [
              "(0.967032967032967, 0.978021978021978, 0.9714285714285714)"
            ]
          },
          "metadata": {},
          "execution_count": 12
        }
      ]
    },
    {
      "cell_type": "markdown",
      "source": [
        "#### 1.2 Soft voting"
      ],
      "metadata": {
        "id": "48alpJqAS3gO"
      }
    },
    {
      "cell_type": "code",
      "source": [
        "# 객체의 속성과 메소드\n",
        "dir(lrc)"
      ],
      "metadata": {
        "colab": {
          "base_uri": "https://localhost:8080/"
        },
        "id": "9CyAH-7TSz3E",
        "outputId": "ea4a5e2b-04d6-4e3d-da3c-6be0bec9803a"
      },
      "execution_count": 13,
      "outputs": [
        {
          "output_type": "execute_result",
          "data": {
            "text/plain": [
              "['C',\n",
              " '__class__',\n",
              " '__delattr__',\n",
              " '__dict__',\n",
              " '__dir__',\n",
              " '__doc__',\n",
              " '__eq__',\n",
              " '__format__',\n",
              " '__ge__',\n",
              " '__getattribute__',\n",
              " '__getstate__',\n",
              " '__gt__',\n",
              " '__hash__',\n",
              " '__init__',\n",
              " '__init_subclass__',\n",
              " '__le__',\n",
              " '__lt__',\n",
              " '__module__',\n",
              " '__ne__',\n",
              " '__new__',\n",
              " '__reduce__',\n",
              " '__reduce_ex__',\n",
              " '__repr__',\n",
              " '__setattr__',\n",
              " '__setstate__',\n",
              " '__sizeof__',\n",
              " '__str__',\n",
              " '__subclasshook__',\n",
              " '__weakref__',\n",
              " '_check_feature_names',\n",
              " '_check_n_features',\n",
              " '_estimator_type',\n",
              " '_get_param_names',\n",
              " '_get_tags',\n",
              " '_more_tags',\n",
              " '_predict_proba_lr',\n",
              " '_repr_html_',\n",
              " '_repr_html_inner',\n",
              " '_repr_mimebundle_',\n",
              " '_validate_data',\n",
              " 'class_weight',\n",
              " 'classes_',\n",
              " 'coef_',\n",
              " 'decision_function',\n",
              " 'densify',\n",
              " 'dual',\n",
              " 'fit',\n",
              " 'fit_intercept',\n",
              " 'get_params',\n",
              " 'intercept_',\n",
              " 'intercept_scaling',\n",
              " 'l1_ratio',\n",
              " 'max_iter',\n",
              " 'multi_class',\n",
              " 'n_features_in_',\n",
              " 'n_iter_',\n",
              " 'n_jobs',\n",
              " 'penalty',\n",
              " 'predict',\n",
              " 'predict_log_proba',\n",
              " 'predict_proba',\n",
              " 'random_state',\n",
              " 'score',\n",
              " 'set_params',\n",
              " 'solver',\n",
              " 'sparsify',\n",
              " 'tol',\n",
              " 'verbose',\n",
              " 'warm_start']"
            ]
          },
          "metadata": {},
          "execution_count": 13
        }
      ]
    },
    {
      "cell_type": "code",
      "source": [
        "print(lrc)\n",
        "## __str__ 으로 지정되어서 이렇게 나오는 것."
      ],
      "metadata": {
        "colab": {
          "base_uri": "https://localhost:8080/"
        },
        "id": "ZNDpUjGdTQOv",
        "outputId": "22f79afe-f3ce-4574-ddcf-a06b1779d730"
      },
      "execution_count": 14,
      "outputs": [
        {
          "output_type": "stream",
          "name": "stdout",
          "text": [
            "LogisticRegression(random_state=2022)\n"
          ]
        }
      ]
    },
    {
      "cell_type": "code",
      "source": [
        "lrc.predict(X_test[:5])"
      ],
      "metadata": {
        "colab": {
          "base_uri": "https://localhost:8080/"
        },
        "id": "FF0FgxdXTSUK",
        "outputId": "7d688272-f58c-4873-ea3a-3b82b8fabc36"
      },
      "execution_count": 15,
      "outputs": [
        {
          "output_type": "execute_result",
          "data": {
            "text/plain": [
              "array([0, 1, 0, 1, 0])"
            ]
          },
          "metadata": {},
          "execution_count": 15
        }
      ]
    },
    {
      "cell_type": "code",
      "source": [
        "# 확률로 예측 반환\n",
        "lrc.predict_proba(X_test[:5])"
      ],
      "metadata": {
        "colab": {
          "base_uri": "https://localhost:8080/"
        },
        "id": "SZ1Axzz2TnzM",
        "outputId": "47ce4d32-545c-4a21-9098-7e0a644b737a"
      },
      "execution_count": 16,
      "outputs": [
        {
          "output_type": "execute_result",
          "data": {
            "text/plain": [
              "array([[0.99792166, 0.00207834],\n",
              "       [0.07775117, 0.92224883],\n",
              "       [0.9774613 , 0.0225387 ],\n",
              "       [0.05952966, 0.94047034],\n",
              "       [0.99554778, 0.00445222]])"
            ]
          },
          "metadata": {},
          "execution_count": 16
        }
      ]
    },
    {
      "cell_type": "markdown",
      "source": [
        "- svc "
      ],
      "metadata": {
        "id": "wPbym3JhUH_f"
      }
    },
    {
      "cell_type": "code",
      "source": [
        "svc.get_params()"
      ],
      "metadata": {
        "colab": {
          "base_uri": "https://localhost:8080/"
        },
        "id": "SKQ3QsiKUfw-",
        "outputId": "0d66eac4-acef-4a37-d753-6769d130137b"
      },
      "execution_count": 19,
      "outputs": [
        {
          "output_type": "execute_result",
          "data": {
            "text/plain": [
              "{'C': 1.0,\n",
              " 'break_ties': False,\n",
              " 'cache_size': 200,\n",
              " 'class_weight': None,\n",
              " 'coef0': 0.0,\n",
              " 'decision_function_shape': 'ovr',\n",
              " 'degree': 3,\n",
              " 'gamma': 'scale',\n",
              " 'kernel': 'rbf',\n",
              " 'max_iter': -1,\n",
              " 'probability': False,\n",
              " 'random_state': 2022,\n",
              " 'shrinking': True,\n",
              " 'tol': 0.001,\n",
              " 'verbose': False}"
            ]
          },
          "metadata": {},
          "execution_count": 19
        }
      ]
    },
    {
      "cell_type": "code",
      "source": [
        "# SVC는 처음에 만들 때 따로 probability=True를 지정해줘야 함!\n",
        "svc2 = SVC(probability=True, random_state=2022)\n",
        "svc2.fit(X_train, y_train)\n",
        "svc2.predict_proba(X_test[:5])"
      ],
      "metadata": {
        "colab": {
          "base_uri": "https://localhost:8080/"
        },
        "id": "rrKUmJ_dUJ8e",
        "outputId": "85308e36-5c44-4b07-f369-3715e3254306"
      },
      "execution_count": 20,
      "outputs": [
        {
          "output_type": "execute_result",
          "data": {
            "text/plain": [
              "array([[9.99896299e-01, 1.03701492e-04],\n",
              "       [3.84470713e-03, 9.96155293e-01],\n",
              "       [9.99896384e-01, 1.03616009e-04],\n",
              "       [5.97356113e-03, 9.94026439e-01],\n",
              "       [9.99311796e-01, 6.88204061e-04]])"
            ]
          },
          "metadata": {},
          "execution_count": 20
        }
      ]
    },
    {
      "cell_type": "code",
      "source": [
        "knn.predict_proba(X_test[-5:])"
      ],
      "metadata": {
        "colab": {
          "base_uri": "https://localhost:8080/"
        },
        "id": "S02kgnZCU3XL",
        "outputId": "c8e4d8c0-0679-4989-bd90-01b34502ce1c"
      },
      "execution_count": 22,
      "outputs": [
        {
          "output_type": "execute_result",
          "data": {
            "text/plain": [
              "array([[0.8, 0.2],\n",
              "       [1. , 0. ],\n",
              "       [0.8, 0.2],\n",
              "       [0. , 1. ],\n",
              "       [0. , 1. ]])"
            ]
          },
          "metadata": {},
          "execution_count": 22
        }
      ]
    },
    {
      "cell_type": "code",
      "source": [
        "voc2 = VotingClassifier(\n",
        "    estimators=[('LRC', lrc),('SVC', svc2),('KNN', knn)],\n",
        "    voting='soft'\n",
        "    # estimators에 리스트 안에 튜블 구조로 이름 + 모델이 들어가야 함\n",
        ")\n",
        "voc2.fit(X_train, y_train)\n",
        "voc2.score(X_test, y_test)"
      ],
      "metadata": {
        "colab": {
          "base_uri": "https://localhost:8080/"
        },
        "id": "gt5VaL2XVlCU",
        "outputId": "df730886-642a-4ee2-b468-c5b81af15f0b"
      },
      "execution_count": 23,
      "outputs": [
        {
          "output_type": "execute_result",
          "data": {
            "text/plain": [
              "1.0"
            ]
          },
          "metadata": {},
          "execution_count": 23
        }
      ]
    },
    {
      "cell_type": "code",
      "source": [
        "# voting이 soft이니 확률로 나옴!\n",
        "voc2.predict_proba(X_test[:5])"
      ],
      "metadata": {
        "colab": {
          "base_uri": "https://localhost:8080/"
        },
        "id": "rIfPPmJ5VxwK",
        "outputId": "407004a2-88b2-4984-ddb8-d25091514b85"
      },
      "execution_count": 25,
      "outputs": [
        {
          "output_type": "execute_result",
          "data": {
            "text/plain": [
              "array([[9.99272654e-01, 7.27346212e-04],\n",
              "       [2.71986265e-02, 9.72801374e-01],\n",
              "       [9.92452563e-01, 7.54743719e-03],\n",
              "       [2.18344062e-02, 9.78165594e-01],\n",
              "       [9.98286525e-01, 1.71347474e-03]])"
            ]
          },
          "metadata": {},
          "execution_count": 25
        }
      ]
    },
    {
      "cell_type": "code",
      "source": [
        "lrc.C, svc2.C"
      ],
      "metadata": {
        "colab": {
          "base_uri": "https://localhost:8080/"
        },
        "id": "KgsQvzMYaddM",
        "outputId": "fbfdf1e8-9b65-487a-9863-bed9dc3aca19"
      },
      "execution_count": 27,
      "outputs": [
        {
          "output_type": "execute_result",
          "data": {
            "text/plain": [
              "(1.0, 1.0)"
            ]
          },
          "metadata": {},
          "execution_count": 27
        }
      ]
    },
    {
      "cell_type": "code",
      "source": [
        "params = {\n",
        "    'LRC__C' : [0.1, 1, 10],\n",
        "    'SVC__C' : [0.1, 1, 10]\n",
        "}"
      ],
      "metadata": {
        "id": "cCGYz8_SagFH"
      },
      "execution_count": 29,
      "outputs": []
    },
    {
      "cell_type": "code",
      "source": [
        "from sklearn.model_selection import GridSearchCV\n",
        "grid_voc2 = GridSearchCV(voc2, params, scoring='accuracy', cv=5)\n",
        "grid_voc2.fit(X_train, y_train)\n",
        "grid_voc2.best_params_"
      ],
      "metadata": {
        "colab": {
          "base_uri": "https://localhost:8080/"
        },
        "id": "-2tCFfbTa8ux",
        "outputId": "6a7aae2c-bc1d-4028-8e3b-adc0d99f3446"
      },
      "execution_count": 32,
      "outputs": [
        {
          "output_type": "execute_result",
          "data": {
            "text/plain": [
              "{'LRC__C': 10, 'SVC__C': 0.1}"
            ]
          },
          "metadata": {},
          "execution_count": 32
        }
      ]
    },
    {
      "cell_type": "markdown",
      "source": [
        "### 2. bagging 방식 - Random Forest"
      ],
      "metadata": {
        "id": "XZQ90eMabhmN"
      }
    },
    {
      "cell_type": "code",
      "source": [
        "from sklearn.ensemble import RandomForestClassifier\n",
        "rfc = RandomForestClassifier(random_state=2022)\n",
        "rfc.get_params()"
      ],
      "metadata": {
        "colab": {
          "base_uri": "https://localhost:8080/"
        },
        "id": "bKgRR_YwcWY_",
        "outputId": "234240ff-328f-4bbb-9c49-6eede593a4ef"
      },
      "execution_count": 34,
      "outputs": [
        {
          "output_type": "execute_result",
          "data": {
            "text/plain": [
              "{'bootstrap': True,\n",
              " 'ccp_alpha': 0.0,\n",
              " 'class_weight': None,\n",
              " 'criterion': 'gini',\n",
              " 'max_depth': None,\n",
              " 'max_features': 'auto',\n",
              " 'max_leaf_nodes': None,\n",
              " 'max_samples': None,\n",
              " 'min_impurity_decrease': 0.0,\n",
              " 'min_samples_leaf': 1,\n",
              " 'min_samples_split': 2,\n",
              " 'min_weight_fraction_leaf': 0.0,\n",
              " 'n_estimators': 100,\n",
              " 'n_jobs': None,\n",
              " 'oob_score': False,\n",
              " 'random_state': 2022,\n",
              " 'verbose': 0,\n",
              " 'warm_start': False}"
            ]
          },
          "metadata": {},
          "execution_count": 34
        }
      ]
    },
    {
      "cell_type": "code",
      "source": [
        "rfc.fit(X_train, y_train)\n",
        "rfc.score(X_test, y_test)"
      ],
      "metadata": {
        "colab": {
          "base_uri": "https://localhost:8080/"
        },
        "id": "0jKhFEp0cucG",
        "outputId": "f7f5b957-a1ed-4680-d643-87fb04c9b969"
      },
      "execution_count": 35,
      "outputs": [
        {
          "output_type": "execute_result",
          "data": {
            "text/plain": [
              "1.0"
            ]
          },
          "metadata": {},
          "execution_count": 35
        }
      ]
    },
    {
      "cell_type": "code",
      "source": [
        ""
      ],
      "metadata": {
        "id": "GrdPTZXfc2BA"
      },
      "execution_count": null,
      "outputs": []
    }
  ]
}