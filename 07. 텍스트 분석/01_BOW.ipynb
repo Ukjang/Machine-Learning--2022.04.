{
  "nbformat": 4,
  "nbformat_minor": 0,
  "metadata": {
    "colab": {
      "name": "01_BOW.ipynb",
      "provenance": [],
      "collapsed_sections": []
    },
    "kernelspec": {
      "name": "python3",
      "display_name": "Python 3"
    },
    "language_info": {
      "name": "python"
    }
  },
  "cells": [
    {
      "cell_type": "markdown",
      "source": [
        "### Bag of Words\n",
        " 1. CountVectorizer"
      ],
      "metadata": {
        "id": "BaigKllJfh1k"
      }
    },
    {
      "cell_type": "code",
      "source": [
        "from sklearn.feature_extraction.text import CountVectorizer "
      ],
      "metadata": {
        "id": "ag4DnQTOktS2"
      },
      "execution_count": 1,
      "outputs": []
    },
    {
      "cell_type": "code",
      "source": [
        "text = 'The SMS Spam Collection is a set of SMS tagged messages that have been collected for SMS Spam research.'"
      ],
      "metadata": {
        "id": "SHIqBBArk3IW"
      },
      "execution_count": 3,
      "outputs": []
    },
    {
      "cell_type": "code",
      "source": [
        "cvect = CountVectorizer()\n",
        "cvect.get_params()"
      ],
      "metadata": {
        "colab": {
          "base_uri": "https://localhost:8080/"
        },
        "id": "npE7x2Psk-gh",
        "outputId": "04f1c5d3-21f7-4d0a-ca8b-c11a339b7615"
      },
      "execution_count": 4,
      "outputs": [
        {
          "output_type": "execute_result",
          "data": {
            "text/plain": [
              "{'analyzer': 'word',\n",
              " 'binary': False,\n",
              " 'decode_error': 'strict',\n",
              " 'dtype': numpy.int64,\n",
              " 'encoding': 'utf-8',\n",
              " 'input': 'content',\n",
              " 'lowercase': True,\n",
              " 'max_df': 1.0,\n",
              " 'max_features': None,\n",
              " 'min_df': 1,\n",
              " 'ngram_range': (1, 1),\n",
              " 'preprocessor': None,\n",
              " 'stop_words': None,\n",
              " 'strip_accents': None,\n",
              " 'token_pattern': '(?u)\\\\b\\\\w\\\\w+\\\\b',\n",
              " 'tokenizer': None,\n",
              " 'vocabulary': None}"
            ]
          },
          "metadata": {},
          "execution_count": 4
        }
      ]
    },
    {
      "cell_type": "code",
      "source": [
        "# string 타입이여서 문제. list형태여야 함.\n",
        "output = cvect.fit_transform([text])\n",
        "output"
      ],
      "metadata": {
        "colab": {
          "base_uri": "https://localhost:8080/"
        },
        "id": "TBPJ753alKxb",
        "outputId": "51f2240b-2983-42e3-ec15-22f58e26b58c"
      },
      "execution_count": 6,
      "outputs": [
        {
          "output_type": "execute_result",
          "data": {
            "text/plain": [
              "<1x15 sparse matrix of type '<class 'numpy.int64'>'\n",
              "\twith 15 stored elements in Compressed Sparse Row format>"
            ]
          },
          "metadata": {},
          "execution_count": 6
        }
      ]
    },
    {
      "cell_type": "code",
      "source": [
        "output.toarray()"
      ],
      "metadata": {
        "colab": {
          "base_uri": "https://localhost:8080/"
        },
        "id": "giXEnQjalkOp",
        "outputId": "efb906bb-e91b-4842-9a90-1bb049016746"
      },
      "execution_count": 7,
      "outputs": [
        {
          "output_type": "execute_result",
          "data": {
            "text/plain": [
              "array([[1, 1, 1, 1, 1, 1, 1, 1, 1, 1, 3, 2, 1, 1, 1]])"
            ]
          },
          "metadata": {},
          "execution_count": 7
        }
      ]
    },
    {
      "cell_type": "code",
      "source": [
        "cvect.vocabulary_"
      ],
      "metadata": {
        "colab": {
          "base_uri": "https://localhost:8080/"
        },
        "id": "rprTiNh6l5wd",
        "outputId": "48db695a-a7da-4f9a-8e98-70cecb81e3ab"
      },
      "execution_count": 8,
      "outputs": [
        {
          "output_type": "execute_result",
          "data": {
            "text/plain": [
              "{'been': 0,\n",
              " 'collected': 1,\n",
              " 'collection': 2,\n",
              " 'for': 3,\n",
              " 'have': 4,\n",
              " 'is': 5,\n",
              " 'messages': 6,\n",
              " 'of': 7,\n",
              " 'research': 8,\n",
              " 'set': 9,\n",
              " 'sms': 10,\n",
              " 'spam': 11,\n",
              " 'tagged': 12,\n",
              " 'that': 13,\n",
              " 'the': 14}"
            ]
          },
          "metadata": {},
          "execution_count": 8
        }
      ]
    },
    {
      "cell_type": "markdown",
      "source": [
        "- 불용어 처리"
      ],
      "metadata": {
        "id": "g0piuueGmPOI"
      }
    },
    {
      "cell_type": "code",
      "source": [
        "# 자체 제거\n",
        "cvect = CountVectorizer(stop_words=['is', 'the', 'a'])\n",
        "print(cvect.fit_transform([text]).toarray())\n",
        "print(cvect.vocabulary_)"
      ],
      "metadata": {
        "colab": {
          "base_uri": "https://localhost:8080/"
        },
        "id": "BT7aMFkDmi_R",
        "outputId": "7f009ffa-3efa-4d1c-bd2c-b28f0eca0df8"
      },
      "execution_count": 11,
      "outputs": [
        {
          "output_type": "stream",
          "name": "stdout",
          "text": [
            "[[1 1 1 1 1 1 1 1 1 3 2 1 1]]\n",
            "{'sms': 9, 'spam': 10, 'collection': 2, 'set': 8, 'of': 6, 'tagged': 11, 'messages': 5, 'that': 12, 'have': 4, 'been': 0, 'collected': 1, 'for': 3, 'research': 7}\n"
          ]
        }
      ]
    },
    {
      "cell_type": "code",
      "source": [
        "# Scikit-learn에서 제공하는 불용어 사용\n",
        "cvect = CountVectorizer(stop_words='english')\n",
        "print(cvect.fit_transform([text]).toarray())\n",
        "print(cvect.vocabulary_)"
      ],
      "metadata": {
        "colab": {
          "base_uri": "https://localhost:8080/"
        },
        "id": "ZVDHnQS_nBGN",
        "outputId": "e78690d0-742b-4dbe-b70a-9c5df3552d3a"
      },
      "execution_count": 13,
      "outputs": [
        {
          "output_type": "stream",
          "name": "stdout",
          "text": [
            "[[1 1 1 1 1 3 2 1]]\n",
            "{'sms': 5, 'spam': 6, 'collection': 1, 'set': 4, 'tagged': 7, 'messages': 2, 'collected': 0, 'research': 3}\n"
          ]
        }
      ]
    },
    {
      "cell_type": "code",
      "source": [
        "# NLTK 불용어 사용\n",
        "import nltk\n",
        "nltk.download('stopwords')"
      ],
      "metadata": {
        "colab": {
          "base_uri": "https://localhost:8080/"
        },
        "id": "W9FZnsR-nYdw",
        "outputId": "1a1df44a-aead-453c-f18c-d511ac58776d"
      },
      "execution_count": 14,
      "outputs": [
        {
          "output_type": "stream",
          "name": "stdout",
          "text": [
            "[nltk_data] Downloading package stopwords to /root/nltk_data...\n",
            "[nltk_data]   Unzipping corpora/stopwords.zip.\n"
          ]
        },
        {
          "output_type": "execute_result",
          "data": {
            "text/plain": [
              "True"
            ]
          },
          "metadata": {},
          "execution_count": 14
        }
      ]
    },
    {
      "cell_type": "code",
      "source": [
        "from nltk.corpus import stopwords\n",
        "sw = stopwords.words('english')\n",
        "len(sw), type(sw)"
      ],
      "metadata": {
        "colab": {
          "base_uri": "https://localhost:8080/"
        },
        "id": "RLrVscTun9hc",
        "outputId": "8d8909e0-85c6-4552-a9ad-53a79f499159"
      },
      "execution_count": 15,
      "outputs": [
        {
          "output_type": "execute_result",
          "data": {
            "text/plain": [
              "(179, list)"
            ]
          },
          "metadata": {},
          "execution_count": 15
        }
      ]
    },
    {
      "cell_type": "code",
      "source": [
        "cvect = CountVectorizer(stop_words=sw)\n",
        "print(cvect.fit_transform([text]).toarray())\n",
        "print(cvect.vocabulary_)"
      ],
      "metadata": {
        "colab": {
          "base_uri": "https://localhost:8080/"
        },
        "id": "zSuJHJkMoTyG",
        "outputId": "f70d57df-1a2e-4f7d-c7ee-095b3026d28c"
      },
      "execution_count": 16,
      "outputs": [
        {
          "output_type": "stream",
          "name": "stdout",
          "text": [
            "[[1 1 1 1 1 3 2 1]]\n",
            "{'sms': 5, 'spam': 6, 'collection': 1, 'set': 4, 'tagged': 7, 'messages': 2, 'collected': 0, 'research': 3}\n"
          ]
        }
      ]
    },
    {
      "cell_type": "markdown",
      "source": [
        "- 인덱스에 해당하는 단어가 무엇인지 알려주는 함수"
      ],
      "metadata": {
        "id": "IjUTxLQQoywq"
      }
    },
    {
      "cell_type": "code",
      "source": [
        "def get_word(index, voca):\n",
        "    for key, value in voca.items():\n",
        "        if value == index:\n",
        "            return key"
      ],
      "metadata": {
        "id": "5b-icXUTo1h8"
      },
      "execution_count": 17,
      "outputs": []
    },
    {
      "cell_type": "code",
      "source": [
        "get_word(3, cvect.vocabulary_)"
      ],
      "metadata": {
        "colab": {
          "base_uri": "https://localhost:8080/",
          "height": 35
        },
        "id": "_go59VjipdGN",
        "outputId": "20ae882a-5e61-4114-99e9-fd0af153c24b"
      },
      "execution_count": 18,
      "outputs": [
        {
          "output_type": "execute_result",
          "data": {
            "text/plain": [
              "'research'"
            ],
            "application/vnd.google.colaboratory.intrinsic+json": {
              "type": "string"
            }
          },
          "metadata": {},
          "execution_count": 18
        }
      ]
    },
    {
      "cell_type": "markdown",
      "source": [
        "### 2. N-gram"
      ],
      "metadata": {
        "id": "3e7bq336tlAD"
      }
    },
    {
      "cell_type": "code",
      "source": [
        "text = ['I work at google.', 'I google at work']\n",
        "cvect = CountVectorizer()\n",
        "print(cvect.fit_transform(text).toarray())\n",
        "print(cvect.vocabulary_)"
      ],
      "metadata": {
        "colab": {
          "base_uri": "https://localhost:8080/"
        },
        "id": "JIMqAiqvtlCy",
        "outputId": "6c64c50d-8f72-4a6d-8853-efce05a24777"
      },
      "execution_count": 23,
      "outputs": [
        {
          "output_type": "stream",
          "name": "stdout",
          "text": [
            "[[1 1 1]\n",
            " [1 1 1]]\n",
            "{'work': 2, 'at': 0, 'google': 1}\n"
          ]
        }
      ]
    },
    {
      "cell_type": "code",
      "source": [
        "# 단점 : 연산횟수가 기하급수적으로 늘어남\n",
        "cvect = CountVectorizer(ngram_range=(1,2))\n",
        "print(cvect.fit_transform(text).toarray())\n",
        "print(cvect.vocabulary_)"
      ],
      "metadata": {
        "colab": {
          "base_uri": "https://localhost:8080/"
        },
        "id": "p7wQiy3itlFX",
        "outputId": "e9193743-afe2-4740-b591-195a90041097"
      },
      "execution_count": 24,
      "outputs": [
        {
          "output_type": "stream",
          "name": "stdout",
          "text": [
            "[[1 1 0 1 0 1 1]\n",
            " [1 0 1 1 1 1 0]]\n",
            "{'work': 5, 'at': 0, 'google': 3, 'work at': 6, 'at google': 1, 'google at': 4, 'at work': 2}\n"
          ]
        }
      ]
    },
    {
      "cell_type": "markdown",
      "source": [
        "3. TfidVectorizer(Term Frequency, Inverse Document Frequency)"
      ],
      "metadata": {
        "id": "m-ZpE8ffufKX"
      }
    },
    {
      "cell_type": "code",
      "source": [
        "text = ['The SMS Spam Collection is a set of SMS tagged messages that have been collected for SMS Spam research.',\n",
        "        'It contains one set of SMS messages in English of 5,574 messages, tagged acording being ham (legitimate) or spam.']"
      ],
      "metadata": {
        "id": "ZXSJHIwrtlHX"
      },
      "execution_count": 31,
      "outputs": []
    },
    {
      "cell_type": "code",
      "source": [
        "from sklearn.feature_extraction.text import TfidfVectorizer\n",
        "tvect = TfidfVectorizer(stop_words='english')\n",
        "print(tvect.fit_transform(text).toarray())\n",
        "print(tvect.vocabulary_)"
      ],
      "metadata": {
        "colab": {
          "base_uri": "https://localhost:8080/"
        },
        "id": "LHpUpmA0uzOi",
        "outputId": "eabd7da4-c7aa-4b63-a179-5cfecbf3b079"
      },
      "execution_count": 33,
      "outputs": [
        {
          "output_type": "stream",
          "name": "stdout",
          "text": [
            "[[0.         0.         0.30015142 0.30015142 0.         0.\n",
            "  0.         0.         0.21356021 0.30015142 0.21356021 0.64068062\n",
            "  0.42712041 0.21356021]\n",
            " [0.31544091 0.31544091 0.         0.         0.31544091 0.31544091\n",
            "  0.31544091 0.31544091 0.44887761 0.         0.2244388  0.2244388\n",
            "  0.2244388  0.2244388 ]]\n",
            "{'sms': 11, 'spam': 12, 'collection': 3, 'set': 10, 'tagged': 13, 'messages': 8, 'collected': 2, 'research': 9, 'contains': 4, 'english': 5, '574': 0, 'acording': 1, 'ham': 6, 'legitimate': 7}\n"
          ]
        }
      ]
    },
    {
      "cell_type": "code",
      "source": [
        ""
      ],
      "metadata": {
        "id": "BwZcVipHvoWb"
      },
      "execution_count": null,
      "outputs": []
    }
  ]
}